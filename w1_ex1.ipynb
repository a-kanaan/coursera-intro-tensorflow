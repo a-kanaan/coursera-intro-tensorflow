{
  "nbformat": 4,
  "nbformat_minor": 0,
  "metadata": {
    "colab": {
      "provenance": [],
      "authorship_tag": "ABX9TyMg3X1v/ao8ORL3Q+kj6Z1A",
      "include_colab_link": true
    },
    "kernelspec": {
      "name": "python3",
      "display_name": "Python 3"
    },
    "language_info": {
      "name": "python"
    }
  },
  "cells": [
    {
      "cell_type": "markdown",
      "metadata": {
        "id": "view-in-github",
        "colab_type": "text"
      },
      "source": [
        "<a href=\"https://colab.research.google.com/github/a-kanaan/coursera-intro-tensorflow/blob/main/w1_ex1.ipynb\" target=\"_parent\"><img src=\"https://colab.research.google.com/assets/colab-badge.svg\" alt=\"Open In Colab\"/></a>"
      ]
    },
    {
      "cell_type": "code",
      "execution_count": null,
      "metadata": {
        "id": "IrozOsTTx5ff"
      },
      "outputs": [],
      "source": [
        "import tensorflow as tf\n",
        "import numpy as np\n",
        "import tensorflow.keras as keras"
      ]
    },
    {
      "cell_type": "code",
      "source": [
        "input_layer = keras.layers.Dense(units=1, input_shape=[1])\n",
        "\n",
        "model = keras.Sequential([input_layer])"
      ],
      "metadata": {
        "id": "g_Edn1H01l7M"
      },
      "execution_count": null,
      "outputs": []
    },
    {
      "cell_type": "code",
      "source": [
        "model.compile(optimizer=tf.keras.optimizers.SGD(), loss=tf.keras.losses.mean_squared_error)"
      ],
      "metadata": {
        "id": "w7N1awpU11lK"
      },
      "execution_count": null,
      "outputs": []
    },
    {
      "cell_type": "code",
      "source": [
        "xs = np.array([1, 2, 3, 4, 5, 6, 7, 8, 9, 10], dtype=float)\n",
        "ys = np.array([2, 4, 6, 8, 10, 12, 14, 16, 18, 20], dtype=float)"
      ],
      "metadata": {
        "id": "QZRpbeGd2O7x"
      },
      "execution_count": null,
      "outputs": []
    },
    {
      "cell_type": "code",
      "source": [
        "model.fit(xs, ys, epochs=10)"
      ],
      "metadata": {
        "colab": {
          "base_uri": "https://localhost:8080/"
        },
        "id": "tUxc3FOH2kAw",
        "outputId": "aed687f2-0840-4d7d-8400-d68df70056f6"
      },
      "execution_count": null,
      "outputs": [
        {
          "output_type": "stream",
          "name": "stdout",
          "text": [
            "Epoch 1/10\n",
            "1/1 [==============================] - 0s 15ms/step - loss: 1.0504e-04\n",
            "Epoch 2/10\n",
            "1/1 [==============================] - 0s 21ms/step - loss: 1.0416e-04\n",
            "Epoch 3/10\n",
            "1/1 [==============================] - 0s 15ms/step - loss: 1.0328e-04\n",
            "Epoch 4/10\n",
            "1/1 [==============================] - 0s 33ms/step - loss: 1.0242e-04\n",
            "Epoch 5/10\n",
            "1/1 [==============================] - 0s 20ms/step - loss: 1.0156e-04\n",
            "Epoch 6/10\n",
            "1/1 [==============================] - 0s 24ms/step - loss: 1.0071e-04\n",
            "Epoch 7/10\n",
            "1/1 [==============================] - 0s 17ms/step - loss: 9.9867e-05\n",
            "Epoch 8/10\n",
            "1/1 [==============================] - 0s 11ms/step - loss: 9.9032e-05\n",
            "Epoch 9/10\n",
            "1/1 [==============================] - 0s 13ms/step - loss: 9.8201e-05\n",
            "Epoch 10/10\n",
            "1/1 [==============================] - 0s 24ms/step - loss: 9.7377e-05\n"
          ]
        },
        {
          "output_type": "execute_result",
          "data": {
            "text/plain": [
              "<keras.callbacks.History at 0x7f9a6a39f1c0>"
            ]
          },
          "metadata": {},
          "execution_count": 13
        }
      ]
    },
    {
      "cell_type": "code",
      "source": [
        "model.predict([10])"
      ],
      "metadata": {
        "colab": {
          "base_uri": "https://localhost:8080/"
        },
        "id": "a6hhFN252nuu",
        "outputId": "750e433b-95cd-4243-9a60-45ebcd5dec22"
      },
      "execution_count": null,
      "outputs": [
        {
          "output_type": "stream",
          "name": "stdout",
          "text": [
            "1/1 [==============================] - 0s 43ms/step\n"
          ]
        },
        {
          "output_type": "execute_result",
          "data": {
            "text/plain": [
              "array([[19.990736]], dtype=float32)"
            ]
          },
          "metadata": {},
          "execution_count": 14
        }
      ]
    },
    {
      "cell_type": "code",
      "source": [
        "input_layer.weights"
      ],
      "metadata": {
        "colab": {
          "base_uri": "https://localhost:8080/"
        },
        "id": "axMM8yho2_cj",
        "outputId": "bb4bda43-9839-46f1-8fa3-2133f91bd03d"
      },
      "execution_count": null,
      "outputs": [
        {
          "output_type": "execute_result",
          "data": {
            "text/plain": [
              "[<tf.Variable 'dense/kernel:0' shape=(1, 1) dtype=float32, numpy=array([[1.996951]], dtype=float32)>,\n",
              " <tf.Variable 'dense/bias:0' shape=(1,) dtype=float32, numpy=array([0.02122656], dtype=float32)>]"
            ]
          },
          "metadata": {},
          "execution_count": 15
        }
      ]
    }
  ]
}